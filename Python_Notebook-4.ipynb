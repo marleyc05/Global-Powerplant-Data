{
  "nbformat": 4,
  "nbformat_minor": 0,
  "metadata": {
    "colab": {
      "provenance": []
    },
    "kernelspec": {
      "name": "python3",
      "display_name": "Python 3"
    },
    "language_info": {
      "name": "python"
    }
  },
  "cells": [
    {
      "cell_type": "markdown",
      "source": [],
      "metadata": {
        "id": "A2SnIkwfyGjI"
      }
    },
    {
      "cell_type": "markdown",
      "source": [
        "# Global Powerplants README\n",
        "##### A data repository on Global Powerplant Data in the United States.\n",
        "\n",
        "## **Table of Contents**\n",
        "### 1. Getting Started\n",
        "### 2. Importing Data\n",
        "### 3. Using Your Data\n",
        "### 4. Exporting Data\n",
        "## *Getting Started*\n",
        "\n",
        "### 1. Start by creating your Colab notebook and importing pandas as \"# prompt: import pandas as pd\"\n",
        "### 2. Choose your data and download it to your computer as a cvs. file\n",
        "## *Importing Data*\n",
        "### 1. To get your data into Colab you can either mount you Google Drive where the file is stored or uploaded it to your \"Contents\" in Colab.\n",
        "### 2. Click on the three dots beside the folder labeled \"Content\" and click \"Upload new file\"\n",
        "### 3. To import the data into your notebook you import is as df=pd.read_csv(\"/content/global_power_plant_database.csv\")\n",
        "### 4. Your data is now imported into your notebook.\n",
        "## *Using your Data*\n",
        "### 1. Get familar with the data you are using\n",
        "### 2. Codes like df. size, df.shape, df. columns, and df. dtypes can help you familarize yourself with the data.\n",
        "### 3. Choose what parts of the data you are wanting to use.\n",
        "## *Exporting Data*\n",
        "### 1. Create a new data set of the data you picked out using the name you want it to be and the location\n",
        " \"...\"_subset = df.iloc[26510:26610, :]\n",
        "### 2. Check to make sure your file is there, df.iloc[26510:26610, :]\n",
        "### 3. Download your data set as csv. to the location, where you'd like it to go.\n",
        "   \"...\"_subset.to_csv('/content/data/USA_df.csv')\n",
        "### 4. You can check and make sure you file has downloaded by running the code \"!ls /content/data/USA_df.csv\".\n",
        "### 5. Once it has been exported to your location you now have your new data file."
      ],
      "metadata": {
        "id": "8xSchOFkW6eh"
      }
    },
    {
      "cell_type": "markdown",
      "source": [
        "# Getting Started"
      ],
      "metadata": {
        "id": "zLSrpjb1G6yF"
      }
    },
    {
      "cell_type": "markdown",
      "source": [
        "Begin by importing pandas package using the following command:"
      ],
      "metadata": {
        "id": "2cU2oemKFpC1"
      }
    },
    {
      "cell_type": "code",
      "execution_count": 1,
      "metadata": {
        "id": "yj-tc2oJrccH"
      },
      "outputs": [],
      "source": [
        "# prompt: import pandas as pd\n",
        "\n",
        "import pandas as pd\n"
      ]
    },
    {
      "cell_type": "markdown",
      "source": [
        "Your file should be downloaded as a csv file. Store this file in your Colab notebook under the content folder."
      ],
      "metadata": {
        "id": "5IAynqsTHHod"
      }
    },
    {
      "cell_type": "markdown",
      "source": [
        "# Importing Data"
      ],
      "metadata": {
        "id": "d2GpiUI-HO8E"
      }
    },
    {
      "cell_type": "markdown",
      "source": [
        "To create your dataframe object, define your object as df by executing the **pd.read_csv()** function on your selected data file by inserting the correct file path into the parathenses."
      ],
      "metadata": {
        "id": "k_oigWLhHD4k"
      }
    },
    {
      "cell_type": "markdown",
      "source": [
        "# Exploring Data"
      ],
      "metadata": {
        "id": "l5SnvYW0HXqG"
      }
    },
    {
      "cell_type": "markdown",
      "source": [
        "To start, you should explore some of the basic attributes within your data. These attributes contain **values** that will give you information about your dataframe to help guide your interaction with your dataframe.\n",
        "##### To access these attributes run the following code: **df.(attribute name)**\n",
        "###### Some examples include:"
      ],
      "metadata": {
        "id": "FxqAMXsbHa4T"
      }
    },
    {
      "cell_type": "code",
      "source": [
        "df = pd.read_csv(\"/content/global_power_plant_database.csv\")"
      ],
      "metadata": {
        "id": "J2zhMSBwtiZK"
      },
      "execution_count": 9,
      "outputs": []
    },
    {
      "cell_type": "code",
      "source": [
        "df.shape"
      ],
      "metadata": {
        "colab": {
          "base_uri": "https://localhost:8080/"
        },
        "id": "cJRLpxxmuy_7",
        "outputId": "0fbd1937-0c02-4d68-af3a-4953e5e46126"
      },
      "execution_count": 10,
      "outputs": [
        {
          "output_type": "execute_result",
          "data": {
            "text/plain": [
              "(29910, 24)"
            ]
          },
          "metadata": {},
          "execution_count": 10
        }
      ]
    },
    {
      "cell_type": "code",
      "source": [
        "df.size"
      ],
      "metadata": {
        "colab": {
          "base_uri": "https://localhost:8080/"
        },
        "id": "Kz-Vud8Vu2Jt",
        "outputId": "a1345408-da44-46e2-c909-e552b1d8ae73"
      },
      "execution_count": 11,
      "outputs": [
        {
          "output_type": "execute_result",
          "data": {
            "text/plain": [
              "717840"
            ]
          },
          "metadata": {},
          "execution_count": 11
        }
      ]
    },
    {
      "cell_type": "code",
      "source": [
        "df.columns"
      ],
      "metadata": {
        "colab": {
          "base_uri": "https://localhost:8080/"
        },
        "id": "t332SJ5Cu4CB",
        "outputId": "fb76998c-e933-4152-c0e9-8bf08954d991"
      },
      "execution_count": 12,
      "outputs": [
        {
          "output_type": "execute_result",
          "data": {
            "text/plain": [
              "Index(['country', 'country_long', 'name', 'gppd_idnr', 'capacity_mw',\n",
              "       'latitude', 'longitude', 'primary_fuel', 'other_fuel1', 'other_fuel2',\n",
              "       'other_fuel3', 'commissioning_year', 'owner', 'source', 'url',\n",
              "       'geolocation_source', 'wepp_id', 'year_of_capacity_data',\n",
              "       'generation_gwh_2013', 'generation_gwh_2014', 'generation_gwh_2015',\n",
              "       'generation_gwh_2016', 'generation_gwh_2017',\n",
              "       'estimated_generation_gwh'],\n",
              "      dtype='object')"
            ]
          },
          "metadata": {},
          "execution_count": 12
        }
      ]
    },
    {
      "cell_type": "code",
      "source": [
        "df.dtypes"
      ],
      "metadata": {
        "colab": {
          "base_uri": "https://localhost:8080/"
        },
        "id": "3vQbrx_Cu8dv",
        "outputId": "bd7beb92-2f89-4685-cbce-3a4b4ccfa88d"
      },
      "execution_count": 13,
      "outputs": [
        {
          "output_type": "execute_result",
          "data": {
            "text/plain": [
              "country                      object\n",
              "country_long                 object\n",
              "name                         object\n",
              "gppd_idnr                    object\n",
              "capacity_mw                 float64\n",
              "latitude                    float64\n",
              "longitude                   float64\n",
              "primary_fuel                 object\n",
              "other_fuel1                  object\n",
              "other_fuel2                  object\n",
              "other_fuel3                  object\n",
              "commissioning_year          float64\n",
              "owner                        object\n",
              "source                       object\n",
              "url                          object\n",
              "geolocation_source           object\n",
              "wepp_id                      object\n",
              "year_of_capacity_data       float64\n",
              "generation_gwh_2013         float64\n",
              "generation_gwh_2014         float64\n",
              "generation_gwh_2015         float64\n",
              "generation_gwh_2016         float64\n",
              "generation_gwh_2017         float64\n",
              "estimated_generation_gwh    float64\n",
              "dtype: object"
            ]
          },
          "metadata": {},
          "execution_count": 13
        }
      ]
    },
    {
      "cell_type": "code",
      "source": [
        "df[0:3]"
      ],
      "metadata": {
        "colab": {
          "base_uri": "https://localhost:8080/",
          "height": 344
        },
        "id": "L_RUQY__5fQR",
        "outputId": "2231313e-20be-4421-bcc6-69d8cac9e478"
      },
      "execution_count": 14,
      "outputs": [
        {
          "output_type": "execute_result",
          "data": {
            "text/plain": [
              "  country country_long                                              name  \\\n",
              "0     AFG  Afghanistan      Kajaki Hydroelectric Power Plant Afghanistan   \n",
              "1     AFG  Afghanistan     Mahipar Hydroelectric Power Plant Afghanistan   \n",
              "2     AFG  Afghanistan  Naghlu Dam Hydroelectric Power Plant Afghanistan   \n",
              "\n",
              "      gppd_idnr  capacity_mw  latitude  longitude primary_fuel other_fuel1  \\\n",
              "0  GEODB0040538         33.0    32.322    65.1190        Hydro         NaN   \n",
              "1  GEODB0040541         66.0    34.556    69.4787        Hydro         NaN   \n",
              "2  GEODB0040534        100.0    34.641    69.7170        Hydro         NaN   \n",
              "\n",
              "  other_fuel2  ...                                 url  geolocation_source  \\\n",
              "0         NaN  ...  http://globalenergyobservatory.org               GEODB   \n",
              "1         NaN  ...  http://globalenergyobservatory.org               GEODB   \n",
              "2         NaN  ...  http://globalenergyobservatory.org               GEODB   \n",
              "\n",
              "   wepp_id year_of_capacity_data generation_gwh_2013 generation_gwh_2014  \\\n",
              "0  1009793                2017.0                 NaN                 NaN   \n",
              "1  1009795                2017.0                 NaN                 NaN   \n",
              "2  1009797                2017.0                 NaN                 NaN   \n",
              "\n",
              "  generation_gwh_2015  generation_gwh_2016  generation_gwh_2017  \\\n",
              "0                 NaN                  NaN                  NaN   \n",
              "1                 NaN                  NaN                  NaN   \n",
              "2                 NaN                  NaN                  NaN   \n",
              "\n",
              "   estimated_generation_gwh  \n",
              "0                       NaN  \n",
              "1                       NaN  \n",
              "2                       NaN  \n",
              "\n",
              "[3 rows x 24 columns]"
            ],
            "text/html": [
              "\n",
              "  <div id=\"df-a8ee1c4b-5b82-4266-9c1e-9eb683a121bf\" class=\"colab-df-container\">\n",
              "    <div>\n",
              "<style scoped>\n",
              "    .dataframe tbody tr th:only-of-type {\n",
              "        vertical-align: middle;\n",
              "    }\n",
              "\n",
              "    .dataframe tbody tr th {\n",
              "        vertical-align: top;\n",
              "    }\n",
              "\n",
              "    .dataframe thead th {\n",
              "        text-align: right;\n",
              "    }\n",
              "</style>\n",
              "<table border=\"1\" class=\"dataframe\">\n",
              "  <thead>\n",
              "    <tr style=\"text-align: right;\">\n",
              "      <th></th>\n",
              "      <th>country</th>\n",
              "      <th>country_long</th>\n",
              "      <th>name</th>\n",
              "      <th>gppd_idnr</th>\n",
              "      <th>capacity_mw</th>\n",
              "      <th>latitude</th>\n",
              "      <th>longitude</th>\n",
              "      <th>primary_fuel</th>\n",
              "      <th>other_fuel1</th>\n",
              "      <th>other_fuel2</th>\n",
              "      <th>...</th>\n",
              "      <th>url</th>\n",
              "      <th>geolocation_source</th>\n",
              "      <th>wepp_id</th>\n",
              "      <th>year_of_capacity_data</th>\n",
              "      <th>generation_gwh_2013</th>\n",
              "      <th>generation_gwh_2014</th>\n",
              "      <th>generation_gwh_2015</th>\n",
              "      <th>generation_gwh_2016</th>\n",
              "      <th>generation_gwh_2017</th>\n",
              "      <th>estimated_generation_gwh</th>\n",
              "    </tr>\n",
              "  </thead>\n",
              "  <tbody>\n",
              "    <tr>\n",
              "      <th>0</th>\n",
              "      <td>AFG</td>\n",
              "      <td>Afghanistan</td>\n",
              "      <td>Kajaki Hydroelectric Power Plant Afghanistan</td>\n",
              "      <td>GEODB0040538</td>\n",
              "      <td>33.0</td>\n",
              "      <td>32.322</td>\n",
              "      <td>65.1190</td>\n",
              "      <td>Hydro</td>\n",
              "      <td>NaN</td>\n",
              "      <td>NaN</td>\n",
              "      <td>...</td>\n",
              "      <td>http://globalenergyobservatory.org</td>\n",
              "      <td>GEODB</td>\n",
              "      <td>1009793</td>\n",
              "      <td>2017.0</td>\n",
              "      <td>NaN</td>\n",
              "      <td>NaN</td>\n",
              "      <td>NaN</td>\n",
              "      <td>NaN</td>\n",
              "      <td>NaN</td>\n",
              "      <td>NaN</td>\n",
              "    </tr>\n",
              "    <tr>\n",
              "      <th>1</th>\n",
              "      <td>AFG</td>\n",
              "      <td>Afghanistan</td>\n",
              "      <td>Mahipar Hydroelectric Power Plant Afghanistan</td>\n",
              "      <td>GEODB0040541</td>\n",
              "      <td>66.0</td>\n",
              "      <td>34.556</td>\n",
              "      <td>69.4787</td>\n",
              "      <td>Hydro</td>\n",
              "      <td>NaN</td>\n",
              "      <td>NaN</td>\n",
              "      <td>...</td>\n",
              "      <td>http://globalenergyobservatory.org</td>\n",
              "      <td>GEODB</td>\n",
              "      <td>1009795</td>\n",
              "      <td>2017.0</td>\n",
              "      <td>NaN</td>\n",
              "      <td>NaN</td>\n",
              "      <td>NaN</td>\n",
              "      <td>NaN</td>\n",
              "      <td>NaN</td>\n",
              "      <td>NaN</td>\n",
              "    </tr>\n",
              "    <tr>\n",
              "      <th>2</th>\n",
              "      <td>AFG</td>\n",
              "      <td>Afghanistan</td>\n",
              "      <td>Naghlu Dam Hydroelectric Power Plant Afghanistan</td>\n",
              "      <td>GEODB0040534</td>\n",
              "      <td>100.0</td>\n",
              "      <td>34.641</td>\n",
              "      <td>69.7170</td>\n",
              "      <td>Hydro</td>\n",
              "      <td>NaN</td>\n",
              "      <td>NaN</td>\n",
              "      <td>...</td>\n",
              "      <td>http://globalenergyobservatory.org</td>\n",
              "      <td>GEODB</td>\n",
              "      <td>1009797</td>\n",
              "      <td>2017.0</td>\n",
              "      <td>NaN</td>\n",
              "      <td>NaN</td>\n",
              "      <td>NaN</td>\n",
              "      <td>NaN</td>\n",
              "      <td>NaN</td>\n",
              "      <td>NaN</td>\n",
              "    </tr>\n",
              "  </tbody>\n",
              "</table>\n",
              "<p>3 rows × 24 columns</p>\n",
              "</div>\n",
              "    <div class=\"colab-df-buttons\">\n",
              "\n",
              "  <div class=\"colab-df-container\">\n",
              "    <button class=\"colab-df-convert\" onclick=\"convertToInteractive('df-a8ee1c4b-5b82-4266-9c1e-9eb683a121bf')\"\n",
              "            title=\"Convert this dataframe to an interactive table.\"\n",
              "            style=\"display:none;\">\n",
              "\n",
              "  <svg xmlns=\"http://www.w3.org/2000/svg\" height=\"24px\" viewBox=\"0 -960 960 960\">\n",
              "    <path d=\"M120-120v-720h720v720H120Zm60-500h600v-160H180v160Zm220 220h160v-160H400v160Zm0 220h160v-160H400v160ZM180-400h160v-160H180v160Zm440 0h160v-160H620v160ZM180-180h160v-160H180v160Zm440 0h160v-160H620v160Z\"/>\n",
              "  </svg>\n",
              "    </button>\n",
              "\n",
              "  <style>\n",
              "    .colab-df-container {\n",
              "      display:flex;\n",
              "      gap: 12px;\n",
              "    }\n",
              "\n",
              "    .colab-df-convert {\n",
              "      background-color: #E8F0FE;\n",
              "      border: none;\n",
              "      border-radius: 50%;\n",
              "      cursor: pointer;\n",
              "      display: none;\n",
              "      fill: #1967D2;\n",
              "      height: 32px;\n",
              "      padding: 0 0 0 0;\n",
              "      width: 32px;\n",
              "    }\n",
              "\n",
              "    .colab-df-convert:hover {\n",
              "      background-color: #E2EBFA;\n",
              "      box-shadow: 0px 1px 2px rgba(60, 64, 67, 0.3), 0px 1px 3px 1px rgba(60, 64, 67, 0.15);\n",
              "      fill: #174EA6;\n",
              "    }\n",
              "\n",
              "    .colab-df-buttons div {\n",
              "      margin-bottom: 4px;\n",
              "    }\n",
              "\n",
              "    [theme=dark] .colab-df-convert {\n",
              "      background-color: #3B4455;\n",
              "      fill: #D2E3FC;\n",
              "    }\n",
              "\n",
              "    [theme=dark] .colab-df-convert:hover {\n",
              "      background-color: #434B5C;\n",
              "      box-shadow: 0px 1px 3px 1px rgba(0, 0, 0, 0.15);\n",
              "      filter: drop-shadow(0px 1px 2px rgba(0, 0, 0, 0.3));\n",
              "      fill: #FFFFFF;\n",
              "    }\n",
              "  </style>\n",
              "\n",
              "    <script>\n",
              "      const buttonEl =\n",
              "        document.querySelector('#df-a8ee1c4b-5b82-4266-9c1e-9eb683a121bf button.colab-df-convert');\n",
              "      buttonEl.style.display =\n",
              "        google.colab.kernel.accessAllowed ? 'block' : 'none';\n",
              "\n",
              "      async function convertToInteractive(key) {\n",
              "        const element = document.querySelector('#df-a8ee1c4b-5b82-4266-9c1e-9eb683a121bf');\n",
              "        const dataTable =\n",
              "          await google.colab.kernel.invokeFunction('convertToInteractive',\n",
              "                                                    [key], {});\n",
              "        if (!dataTable) return;\n",
              "\n",
              "        const docLinkHtml = 'Like what you see? Visit the ' +\n",
              "          '<a target=\"_blank\" href=https://colab.research.google.com/notebooks/data_table.ipynb>data table notebook</a>'\n",
              "          + ' to learn more about interactive tables.';\n",
              "        element.innerHTML = '';\n",
              "        dataTable['output_type'] = 'display_data';\n",
              "        await google.colab.output.renderOutput(dataTable, element);\n",
              "        const docLink = document.createElement('div');\n",
              "        docLink.innerHTML = docLinkHtml;\n",
              "        element.appendChild(docLink);\n",
              "      }\n",
              "    </script>\n",
              "  </div>\n",
              "\n",
              "\n",
              "<div id=\"df-345ff9b3-7a59-46ab-8820-cd8cf9fee849\">\n",
              "  <button class=\"colab-df-quickchart\" onclick=\"quickchart('df-345ff9b3-7a59-46ab-8820-cd8cf9fee849')\"\n",
              "            title=\"Suggest charts\"\n",
              "            style=\"display:none;\">\n",
              "\n",
              "<svg xmlns=\"http://www.w3.org/2000/svg\" height=\"24px\"viewBox=\"0 0 24 24\"\n",
              "     width=\"24px\">\n",
              "    <g>\n",
              "        <path d=\"M19 3H5c-1.1 0-2 .9-2 2v14c0 1.1.9 2 2 2h14c1.1 0 2-.9 2-2V5c0-1.1-.9-2-2-2zM9 17H7v-7h2v7zm4 0h-2V7h2v10zm4 0h-2v-4h2v4z\"/>\n",
              "    </g>\n",
              "</svg>\n",
              "  </button>\n",
              "\n",
              "<style>\n",
              "  .colab-df-quickchart {\n",
              "      --bg-color: #E8F0FE;\n",
              "      --fill-color: #1967D2;\n",
              "      --hover-bg-color: #E2EBFA;\n",
              "      --hover-fill-color: #174EA6;\n",
              "      --disabled-fill-color: #AAA;\n",
              "      --disabled-bg-color: #DDD;\n",
              "  }\n",
              "\n",
              "  [theme=dark] .colab-df-quickchart {\n",
              "      --bg-color: #3B4455;\n",
              "      --fill-color: #D2E3FC;\n",
              "      --hover-bg-color: #434B5C;\n",
              "      --hover-fill-color: #FFFFFF;\n",
              "      --disabled-bg-color: #3B4455;\n",
              "      --disabled-fill-color: #666;\n",
              "  }\n",
              "\n",
              "  .colab-df-quickchart {\n",
              "    background-color: var(--bg-color);\n",
              "    border: none;\n",
              "    border-radius: 50%;\n",
              "    cursor: pointer;\n",
              "    display: none;\n",
              "    fill: var(--fill-color);\n",
              "    height: 32px;\n",
              "    padding: 0;\n",
              "    width: 32px;\n",
              "  }\n",
              "\n",
              "  .colab-df-quickchart:hover {\n",
              "    background-color: var(--hover-bg-color);\n",
              "    box-shadow: 0 1px 2px rgba(60, 64, 67, 0.3), 0 1px 3px 1px rgba(60, 64, 67, 0.15);\n",
              "    fill: var(--button-hover-fill-color);\n",
              "  }\n",
              "\n",
              "  .colab-df-quickchart-complete:disabled,\n",
              "  .colab-df-quickchart-complete:disabled:hover {\n",
              "    background-color: var(--disabled-bg-color);\n",
              "    fill: var(--disabled-fill-color);\n",
              "    box-shadow: none;\n",
              "  }\n",
              "\n",
              "  .colab-df-spinner {\n",
              "    border: 2px solid var(--fill-color);\n",
              "    border-color: transparent;\n",
              "    border-bottom-color: var(--fill-color);\n",
              "    animation:\n",
              "      spin 1s steps(1) infinite;\n",
              "  }\n",
              "\n",
              "  @keyframes spin {\n",
              "    0% {\n",
              "      border-color: transparent;\n",
              "      border-bottom-color: var(--fill-color);\n",
              "      border-left-color: var(--fill-color);\n",
              "    }\n",
              "    20% {\n",
              "      border-color: transparent;\n",
              "      border-left-color: var(--fill-color);\n",
              "      border-top-color: var(--fill-color);\n",
              "    }\n",
              "    30% {\n",
              "      border-color: transparent;\n",
              "      border-left-color: var(--fill-color);\n",
              "      border-top-color: var(--fill-color);\n",
              "      border-right-color: var(--fill-color);\n",
              "    }\n",
              "    40% {\n",
              "      border-color: transparent;\n",
              "      border-right-color: var(--fill-color);\n",
              "      border-top-color: var(--fill-color);\n",
              "    }\n",
              "    60% {\n",
              "      border-color: transparent;\n",
              "      border-right-color: var(--fill-color);\n",
              "    }\n",
              "    80% {\n",
              "      border-color: transparent;\n",
              "      border-right-color: var(--fill-color);\n",
              "      border-bottom-color: var(--fill-color);\n",
              "    }\n",
              "    90% {\n",
              "      border-color: transparent;\n",
              "      border-bottom-color: var(--fill-color);\n",
              "    }\n",
              "  }\n",
              "</style>\n",
              "\n",
              "  <script>\n",
              "    async function quickchart(key) {\n",
              "      const quickchartButtonEl =\n",
              "        document.querySelector('#' + key + ' button');\n",
              "      quickchartButtonEl.disabled = true;  // To prevent multiple clicks.\n",
              "      quickchartButtonEl.classList.add('colab-df-spinner');\n",
              "      try {\n",
              "        const charts = await google.colab.kernel.invokeFunction(\n",
              "            'suggestCharts', [key], {});\n",
              "      } catch (error) {\n",
              "        console.error('Error during call to suggestCharts:', error);\n",
              "      }\n",
              "      quickchartButtonEl.classList.remove('colab-df-spinner');\n",
              "      quickchartButtonEl.classList.add('colab-df-quickchart-complete');\n",
              "    }\n",
              "    (() => {\n",
              "      let quickchartButtonEl =\n",
              "        document.querySelector('#df-345ff9b3-7a59-46ab-8820-cd8cf9fee849 button');\n",
              "      quickchartButtonEl.style.display =\n",
              "        google.colab.kernel.accessAllowed ? 'block' : 'none';\n",
              "    })();\n",
              "  </script>\n",
              "</div>\n",
              "\n",
              "    </div>\n",
              "  </div>\n"
            ],
            "application/vnd.google.colaboratory.intrinsic+json": {
              "type": "dataframe"
            }
          },
          "metadata": {},
          "execution_count": 14
        }
      ]
    },
    {
      "cell_type": "code",
      "source": [
        "df [\"country\"][5:10]"
      ],
      "metadata": {
        "colab": {
          "base_uri": "https://localhost:8080/"
        },
        "id": "rFfOiQ1l5x22",
        "outputId": "be6a1cbc-0a06-4251-f018-0ef4bab83a08"
      },
      "execution_count": 15,
      "outputs": [
        {
          "output_type": "execute_result",
          "data": {
            "text/plain": [
              "5    AFG\n",
              "6    AFG\n",
              "7    ALB\n",
              "8    ALB\n",
              "9    ALB\n",
              "Name: country, dtype: object"
            ]
          },
          "metadata": {},
          "execution_count": 15
        }
      ]
    },
    {
      "cell_type": "code",
      "source": [
        "df.iloc[3,4]"
      ],
      "metadata": {
        "colab": {
          "base_uri": "https://localhost:8080/"
        },
        "id": "txkBOP2h58-4",
        "outputId": "45a0c008-a009-48de-82a8-e804a6f1371c"
      },
      "execution_count": 16,
      "outputs": [
        {
          "output_type": "execute_result",
          "data": {
            "text/plain": [
              "11.55"
            ]
          },
          "metadata": {},
          "execution_count": 16
        }
      ]
    },
    {
      "cell_type": "code",
      "source": [
        "df.iloc[:,4] # All rows of column 4"
      ],
      "metadata": {
        "colab": {
          "base_uri": "https://localhost:8080/"
        },
        "id": "AZUtjn1K6FiO",
        "outputId": "e8052f07-8f63-4c62-e187-3dcb645dc2a5"
      },
      "execution_count": 17,
      "outputs": [
        {
          "output_type": "execute_result",
          "data": {
            "text/plain": [
              "0         33.00\n",
              "1         66.00\n",
              "2        100.00\n",
              "3         11.55\n",
              "4         42.00\n",
              "          ...  \n",
              "29905     50.00\n",
              "29906     20.00\n",
              "29907    108.00\n",
              "29908    920.00\n",
              "29909    750.00\n",
              "Name: capacity_mw, Length: 29910, dtype: float64"
            ]
          },
          "metadata": {},
          "execution_count": 17
        }
      ]
    },
    {
      "cell_type": "markdown",
      "source": [
        "To get more familiar with working with your dataframes you can certain methods. These methods are going to narrow down your dataframe searches to look at the first five or last five rows in your dataset. You can do this with **.head()** and **.tail()** methods."
      ],
      "metadata": {
        "id": "Ym2-0_lPJSVt"
      }
    },
    {
      "cell_type": "code",
      "source": [
        "df.loc[:,[\"country\",\"source\",\"owner\"]].head()"
      ],
      "metadata": {
        "colab": {
          "base_uri": "https://localhost:8080/",
          "height": 204
        },
        "id": "nTBNjb6y6TPC",
        "outputId": "5fb5c662-d8da-4a2c-c3e0-84c42f2eaa11"
      },
      "execution_count": 18,
      "outputs": [
        {
          "output_type": "execute_result",
          "data": {
            "text/plain": [
              "  country source owner\n",
              "0     AFG  GEODB   NaN\n",
              "1     AFG  GEODB   NaN\n",
              "2     AFG  GEODB   NaN\n",
              "3     AFG  GEODB   NaN\n",
              "4     AFG  GEODB   NaN"
            ],
            "text/html": [
              "\n",
              "  <div id=\"df-25f3e82a-5dc2-45d9-b79c-3821adf49e37\" class=\"colab-df-container\">\n",
              "    <div>\n",
              "<style scoped>\n",
              "    .dataframe tbody tr th:only-of-type {\n",
              "        vertical-align: middle;\n",
              "    }\n",
              "\n",
              "    .dataframe tbody tr th {\n",
              "        vertical-align: top;\n",
              "    }\n",
              "\n",
              "    .dataframe thead th {\n",
              "        text-align: right;\n",
              "    }\n",
              "</style>\n",
              "<table border=\"1\" class=\"dataframe\">\n",
              "  <thead>\n",
              "    <tr style=\"text-align: right;\">\n",
              "      <th></th>\n",
              "      <th>country</th>\n",
              "      <th>source</th>\n",
              "      <th>owner</th>\n",
              "    </tr>\n",
              "  </thead>\n",
              "  <tbody>\n",
              "    <tr>\n",
              "      <th>0</th>\n",
              "      <td>AFG</td>\n",
              "      <td>GEODB</td>\n",
              "      <td>NaN</td>\n",
              "    </tr>\n",
              "    <tr>\n",
              "      <th>1</th>\n",
              "      <td>AFG</td>\n",
              "      <td>GEODB</td>\n",
              "      <td>NaN</td>\n",
              "    </tr>\n",
              "    <tr>\n",
              "      <th>2</th>\n",
              "      <td>AFG</td>\n",
              "      <td>GEODB</td>\n",
              "      <td>NaN</td>\n",
              "    </tr>\n",
              "    <tr>\n",
              "      <th>3</th>\n",
              "      <td>AFG</td>\n",
              "      <td>GEODB</td>\n",
              "      <td>NaN</td>\n",
              "    </tr>\n",
              "    <tr>\n",
              "      <th>4</th>\n",
              "      <td>AFG</td>\n",
              "      <td>GEODB</td>\n",
              "      <td>NaN</td>\n",
              "    </tr>\n",
              "  </tbody>\n",
              "</table>\n",
              "</div>\n",
              "    <div class=\"colab-df-buttons\">\n",
              "\n",
              "  <div class=\"colab-df-container\">\n",
              "    <button class=\"colab-df-convert\" onclick=\"convertToInteractive('df-25f3e82a-5dc2-45d9-b79c-3821adf49e37')\"\n",
              "            title=\"Convert this dataframe to an interactive table.\"\n",
              "            style=\"display:none;\">\n",
              "\n",
              "  <svg xmlns=\"http://www.w3.org/2000/svg\" height=\"24px\" viewBox=\"0 -960 960 960\">\n",
              "    <path d=\"M120-120v-720h720v720H120Zm60-500h600v-160H180v160Zm220 220h160v-160H400v160Zm0 220h160v-160H400v160ZM180-400h160v-160H180v160Zm440 0h160v-160H620v160ZM180-180h160v-160H180v160Zm440 0h160v-160H620v160Z\"/>\n",
              "  </svg>\n",
              "    </button>\n",
              "\n",
              "  <style>\n",
              "    .colab-df-container {\n",
              "      display:flex;\n",
              "      gap: 12px;\n",
              "    }\n",
              "\n",
              "    .colab-df-convert {\n",
              "      background-color: #E8F0FE;\n",
              "      border: none;\n",
              "      border-radius: 50%;\n",
              "      cursor: pointer;\n",
              "      display: none;\n",
              "      fill: #1967D2;\n",
              "      height: 32px;\n",
              "      padding: 0 0 0 0;\n",
              "      width: 32px;\n",
              "    }\n",
              "\n",
              "    .colab-df-convert:hover {\n",
              "      background-color: #E2EBFA;\n",
              "      box-shadow: 0px 1px 2px rgba(60, 64, 67, 0.3), 0px 1px 3px 1px rgba(60, 64, 67, 0.15);\n",
              "      fill: #174EA6;\n",
              "    }\n",
              "\n",
              "    .colab-df-buttons div {\n",
              "      margin-bottom: 4px;\n",
              "    }\n",
              "\n",
              "    [theme=dark] .colab-df-convert {\n",
              "      background-color: #3B4455;\n",
              "      fill: #D2E3FC;\n",
              "    }\n",
              "\n",
              "    [theme=dark] .colab-df-convert:hover {\n",
              "      background-color: #434B5C;\n",
              "      box-shadow: 0px 1px 3px 1px rgba(0, 0, 0, 0.15);\n",
              "      filter: drop-shadow(0px 1px 2px rgba(0, 0, 0, 0.3));\n",
              "      fill: #FFFFFF;\n",
              "    }\n",
              "  </style>\n",
              "\n",
              "    <script>\n",
              "      const buttonEl =\n",
              "        document.querySelector('#df-25f3e82a-5dc2-45d9-b79c-3821adf49e37 button.colab-df-convert');\n",
              "      buttonEl.style.display =\n",
              "        google.colab.kernel.accessAllowed ? 'block' : 'none';\n",
              "\n",
              "      async function convertToInteractive(key) {\n",
              "        const element = document.querySelector('#df-25f3e82a-5dc2-45d9-b79c-3821adf49e37');\n",
              "        const dataTable =\n",
              "          await google.colab.kernel.invokeFunction('convertToInteractive',\n",
              "                                                    [key], {});\n",
              "        if (!dataTable) return;\n",
              "\n",
              "        const docLinkHtml = 'Like what you see? Visit the ' +\n",
              "          '<a target=\"_blank\" href=https://colab.research.google.com/notebooks/data_table.ipynb>data table notebook</a>'\n",
              "          + ' to learn more about interactive tables.';\n",
              "        element.innerHTML = '';\n",
              "        dataTable['output_type'] = 'display_data';\n",
              "        await google.colab.output.renderOutput(dataTable, element);\n",
              "        const docLink = document.createElement('div');\n",
              "        docLink.innerHTML = docLinkHtml;\n",
              "        element.appendChild(docLink);\n",
              "      }\n",
              "    </script>\n",
              "  </div>\n",
              "\n",
              "\n",
              "<div id=\"df-72fbd560-4115-44c7-b6dd-3aceced65768\">\n",
              "  <button class=\"colab-df-quickchart\" onclick=\"quickchart('df-72fbd560-4115-44c7-b6dd-3aceced65768')\"\n",
              "            title=\"Suggest charts\"\n",
              "            style=\"display:none;\">\n",
              "\n",
              "<svg xmlns=\"http://www.w3.org/2000/svg\" height=\"24px\"viewBox=\"0 0 24 24\"\n",
              "     width=\"24px\">\n",
              "    <g>\n",
              "        <path d=\"M19 3H5c-1.1 0-2 .9-2 2v14c0 1.1.9 2 2 2h14c1.1 0 2-.9 2-2V5c0-1.1-.9-2-2-2zM9 17H7v-7h2v7zm4 0h-2V7h2v10zm4 0h-2v-4h2v4z\"/>\n",
              "    </g>\n",
              "</svg>\n",
              "  </button>\n",
              "\n",
              "<style>\n",
              "  .colab-df-quickchart {\n",
              "      --bg-color: #E8F0FE;\n",
              "      --fill-color: #1967D2;\n",
              "      --hover-bg-color: #E2EBFA;\n",
              "      --hover-fill-color: #174EA6;\n",
              "      --disabled-fill-color: #AAA;\n",
              "      --disabled-bg-color: #DDD;\n",
              "  }\n",
              "\n",
              "  [theme=dark] .colab-df-quickchart {\n",
              "      --bg-color: #3B4455;\n",
              "      --fill-color: #D2E3FC;\n",
              "      --hover-bg-color: #434B5C;\n",
              "      --hover-fill-color: #FFFFFF;\n",
              "      --disabled-bg-color: #3B4455;\n",
              "      --disabled-fill-color: #666;\n",
              "  }\n",
              "\n",
              "  .colab-df-quickchart {\n",
              "    background-color: var(--bg-color);\n",
              "    border: none;\n",
              "    border-radius: 50%;\n",
              "    cursor: pointer;\n",
              "    display: none;\n",
              "    fill: var(--fill-color);\n",
              "    height: 32px;\n",
              "    padding: 0;\n",
              "    width: 32px;\n",
              "  }\n",
              "\n",
              "  .colab-df-quickchart:hover {\n",
              "    background-color: var(--hover-bg-color);\n",
              "    box-shadow: 0 1px 2px rgba(60, 64, 67, 0.3), 0 1px 3px 1px rgba(60, 64, 67, 0.15);\n",
              "    fill: var(--button-hover-fill-color);\n",
              "  }\n",
              "\n",
              "  .colab-df-quickchart-complete:disabled,\n",
              "  .colab-df-quickchart-complete:disabled:hover {\n",
              "    background-color: var(--disabled-bg-color);\n",
              "    fill: var(--disabled-fill-color);\n",
              "    box-shadow: none;\n",
              "  }\n",
              "\n",
              "  .colab-df-spinner {\n",
              "    border: 2px solid var(--fill-color);\n",
              "    border-color: transparent;\n",
              "    border-bottom-color: var(--fill-color);\n",
              "    animation:\n",
              "      spin 1s steps(1) infinite;\n",
              "  }\n",
              "\n",
              "  @keyframes spin {\n",
              "    0% {\n",
              "      border-color: transparent;\n",
              "      border-bottom-color: var(--fill-color);\n",
              "      border-left-color: var(--fill-color);\n",
              "    }\n",
              "    20% {\n",
              "      border-color: transparent;\n",
              "      border-left-color: var(--fill-color);\n",
              "      border-top-color: var(--fill-color);\n",
              "    }\n",
              "    30% {\n",
              "      border-color: transparent;\n",
              "      border-left-color: var(--fill-color);\n",
              "      border-top-color: var(--fill-color);\n",
              "      border-right-color: var(--fill-color);\n",
              "    }\n",
              "    40% {\n",
              "      border-color: transparent;\n",
              "      border-right-color: var(--fill-color);\n",
              "      border-top-color: var(--fill-color);\n",
              "    }\n",
              "    60% {\n",
              "      border-color: transparent;\n",
              "      border-right-color: var(--fill-color);\n",
              "    }\n",
              "    80% {\n",
              "      border-color: transparent;\n",
              "      border-right-color: var(--fill-color);\n",
              "      border-bottom-color: var(--fill-color);\n",
              "    }\n",
              "    90% {\n",
              "      border-color: transparent;\n",
              "      border-bottom-color: var(--fill-color);\n",
              "    }\n",
              "  }\n",
              "</style>\n",
              "\n",
              "  <script>\n",
              "    async function quickchart(key) {\n",
              "      const quickchartButtonEl =\n",
              "        document.querySelector('#' + key + ' button');\n",
              "      quickchartButtonEl.disabled = true;  // To prevent multiple clicks.\n",
              "      quickchartButtonEl.classList.add('colab-df-spinner');\n",
              "      try {\n",
              "        const charts = await google.colab.kernel.invokeFunction(\n",
              "            'suggestCharts', [key], {});\n",
              "      } catch (error) {\n",
              "        console.error('Error during call to suggestCharts:', error);\n",
              "      }\n",
              "      quickchartButtonEl.classList.remove('colab-df-spinner');\n",
              "      quickchartButtonEl.classList.add('colab-df-quickchart-complete');\n",
              "    }\n",
              "    (() => {\n",
              "      let quickchartButtonEl =\n",
              "        document.querySelector('#df-72fbd560-4115-44c7-b6dd-3aceced65768 button');\n",
              "      quickchartButtonEl.style.display =\n",
              "        google.colab.kernel.accessAllowed ? 'block' : 'none';\n",
              "    })();\n",
              "  </script>\n",
              "</div>\n",
              "\n",
              "    </div>\n",
              "  </div>\n"
            ],
            "application/vnd.google.colaboratory.intrinsic+json": {
              "type": "dataframe",
              "repr_error": "Out of range float values are not JSON compliant: nan"
            }
          },
          "metadata": {},
          "execution_count": 18
        }
      ]
    },
    {
      "cell_type": "code",
      "source": [
        "df[\"country\"]==\"AFG\""
      ],
      "metadata": {
        "colab": {
          "base_uri": "https://localhost:8080/"
        },
        "id": "XQNRp0GnAQff",
        "outputId": "928e57b7-faa0-4841-b61f-dad1813ce8fc"
      },
      "execution_count": 19,
      "outputs": [
        {
          "output_type": "execute_result",
          "data": {
            "text/plain": [
              "0         True\n",
              "1         True\n",
              "2         True\n",
              "3         True\n",
              "4         True\n",
              "         ...  \n",
              "29905    False\n",
              "29906    False\n",
              "29907    False\n",
              "29908    False\n",
              "29909    False\n",
              "Name: country, Length: 29910, dtype: bool"
            ]
          },
          "metadata": {},
          "execution_count": 19
        }
      ]
    },
    {
      "cell_type": "code",
      "source": [
        "df[\"country\"][20:30]"
      ],
      "metadata": {
        "colab": {
          "base_uri": "https://localhost:8080/"
        },
        "id": "t7Gi3gF0A03R",
        "outputId": "503b9116-8210-4c37-fbf6-0f4d72f4f7ac"
      },
      "execution_count": 20,
      "outputs": [
        {
          "output_type": "execute_result",
          "data": {
            "text/plain": [
              "20    DZA\n",
              "21    DZA\n",
              "22    DZA\n",
              "23    DZA\n",
              "24    DZA\n",
              "25    DZA\n",
              "26    DZA\n",
              "27    DZA\n",
              "28    DZA\n",
              "29    DZA\n",
              "Name: country, dtype: object"
            ]
          },
          "metadata": {},
          "execution_count": 20
        }
      ]
    },
    {
      "cell_type": "code",
      "source": [
        "df[\"country\"][50:60]"
      ],
      "metadata": {
        "colab": {
          "base_uri": "https://localhost:8080/"
        },
        "id": "dzr9EnmKA9bz",
        "outputId": "8f9e60e6-2baf-49a1-f232-f76ed53ba7f9"
      },
      "execution_count": 21,
      "outputs": [
        {
          "output_type": "execute_result",
          "data": {
            "text/plain": [
              "50    AGO\n",
              "51    AGO\n",
              "52    AGO\n",
              "53    AGO\n",
              "54    AGO\n",
              "55    AGO\n",
              "56    AGO\n",
              "57    AGO\n",
              "58    AGO\n",
              "59    AGO\n",
              "Name: country, dtype: object"
            ]
          },
          "metadata": {},
          "execution_count": 21
        }
      ]
    },
    {
      "cell_type": "code",
      "source": [
        "df[\"country_long\"][85:90]"
      ],
      "metadata": {
        "colab": {
          "base_uri": "https://localhost:8080/"
        },
        "id": "GR37MQT7BIIh",
        "outputId": "f50cf9c2-b8ee-40a1-946b-83f8f8a0d308"
      },
      "execution_count": 22,
      "outputs": [
        {
          "output_type": "execute_result",
          "data": {
            "text/plain": [
              "85    Argentina\n",
              "86    Argentina\n",
              "87    Argentina\n",
              "88    Argentina\n",
              "89    Argentina\n",
              "Name: country_long, dtype: object"
            ]
          },
          "metadata": {},
          "execution_count": 22
        }
      ]
    },
    {
      "cell_type": "code",
      "source": [
        "df[\"country_long\"][200:210]"
      ],
      "metadata": {
        "colab": {
          "base_uri": "https://localhost:8080/"
        },
        "id": "16pNLyTkBRLJ",
        "outputId": "3debe8b0-a832-4868-898a-5ad4b000f322"
      },
      "execution_count": 23,
      "outputs": [
        {
          "output_type": "execute_result",
          "data": {
            "text/plain": [
              "200    Argentina\n",
              "201    Argentina\n",
              "202    Argentina\n",
              "203    Argentina\n",
              "204    Argentina\n",
              "205    Argentina\n",
              "206    Argentina\n",
              "207    Argentina\n",
              "208    Argentina\n",
              "209    Argentina\n",
              "Name: country_long, dtype: object"
            ]
          },
          "metadata": {},
          "execution_count": 23
        }
      ]
    },
    {
      "cell_type": "code",
      "source": [
        "df[\"country_long\"][26510:26620]"
      ],
      "metadata": {
        "colab": {
          "base_uri": "https://localhost:8080/"
        },
        "id": "1ySDMShnBc-m",
        "outputId": "6fb23b7d-1d32-4720-b08f-592a893cbd16"
      },
      "execution_count": 24,
      "outputs": [
        {
          "output_type": "execute_result",
          "data": {
            "text/plain": [
              "26510    United States of America\n",
              "26511    United States of America\n",
              "26512    United States of America\n",
              "26513    United States of America\n",
              "26514    United States of America\n",
              "                   ...           \n",
              "26615    United States of America\n",
              "26616    United States of America\n",
              "26617    United States of America\n",
              "26618    United States of America\n",
              "26619    United States of America\n",
              "Name: country_long, Length: 110, dtype: object"
            ]
          },
          "metadata": {},
          "execution_count": 24
        }
      ]
    },
    {
      "cell_type": "markdown",
      "source": [
        "### Creating a Subset"
      ],
      "metadata": {
        "id": "ADtG3R6hKbox"
      }
    },
    {
      "cell_type": "markdown",
      "source": [
        "To take a smaller portion of your larger dataset you can create a subset. This will help you to decrease the size of your dataset and only have the information you need. You can do this by running the following: ()_subset = pd.DataFrame()"
      ],
      "metadata": {
        "id": "HLwaj1ALKa4B"
      }
    },
    {
      "cell_type": "code",
      "source": [
        "USA_subset = df.iloc[26510:26610, :]"
      ],
      "metadata": {
        "id": "pZc0fyONEOeA"
      },
      "execution_count": 25,
      "outputs": []
    },
    {
      "cell_type": "code",
      "source": [
        "new_df = df.iloc[26510:26610, :]"
      ],
      "metadata": {
        "id": "gWZnEuUEUJ7f"
      },
      "execution_count": 26,
      "outputs": []
    },
    {
      "cell_type": "code",
      "source": [
        "df.iloc[26510:26610, :]"
      ],
      "metadata": {
        "colab": {
          "base_uri": "https://localhost:8080/",
          "height": 677
        },
        "id": "ECxIFTztrME5",
        "outputId": "c5190b3b-7051-4ee9-83e2-0be1c3a57945"
      },
      "execution_count": 27,
      "outputs": [
        {
          "output_type": "execute_result",
          "data": {
            "text/plain": [
              "      country              country_long                               name  \\\n",
              "26510     USA  United States of America  Outback Solar At Christmas Valley   \n",
              "26511     USA  United States of America               Overall Road Station   \n",
              "26512     USA  United States of America                           Owatonna   \n",
              "26513     USA  United States of America                         Owen Solar   \n",
              "26514     USA  United States of America         Owens Corning Headquarters   \n",
              "...       ...                       ...                                ...   \n",
              "26605     USA  United States of America                       Paloma Solar   \n",
              "26606     USA  United States of America                     Palomar Energy   \n",
              "26607     USA  United States of America                            Palouse   \n",
              "26608     USA  United States of America             Pamlico Partners Solar   \n",
              "26609     USA  United States of America            Panasonic Carport Solar   \n",
              "\n",
              "        gppd_idnr  capacity_mw  latitude  longitude primary_fuel other_fuel1  \\\n",
              "26510  USA0058131          4.4   43.2369  -120.4900        Solar         NaN   \n",
              "26511  USA0056600          8.0   37.7608   -90.4526          Oil         NaN   \n",
              "26512  USA0002003         19.0   44.0833   -93.2300          Gas         Oil   \n",
              "26513  USA0058742          5.0   35.5861   -81.3153        Solar         NaN   \n",
              "26514  USA0060038          2.1   41.6447   -83.5364        Solar         NaN   \n",
              "...           ...          ...       ...        ...          ...         ...   \n",
              "26605  USA0057562         17.6   33.0211  -112.6614        Solar         NaN   \n",
              "26606  USA0055985        559.0   33.1197  -117.1178          Gas         NaN   \n",
              "26607  USA0057530        105.3   47.1558  -117.3644         Wind         NaN   \n",
              "26608  USA0058799          5.0   35.5011   -76.8700        Solar         NaN   \n",
              "26609  USA0061439          2.3   39.8087  -104.7815        Solar     Storage   \n",
              "\n",
              "      other_fuel2  ...                                           url  \\\n",
              "26510         NaN  ...  http://www.eia.gov/electricity/data/browser/   \n",
              "26511         NaN  ...  http://www.eia.gov/electricity/data/browser/   \n",
              "26512         NaN  ...  http://www.eia.gov/electricity/data/browser/   \n",
              "26513         NaN  ...  http://www.eia.gov/electricity/data/browser/   \n",
              "26514         NaN  ...  http://www.eia.gov/electricity/data/browser/   \n",
              "...           ...  ...                                           ...   \n",
              "26605         NaN  ...  http://www.eia.gov/electricity/data/browser/   \n",
              "26606         NaN  ...  http://www.eia.gov/electricity/data/browser/   \n",
              "26607         NaN  ...  http://www.eia.gov/electricity/data/browser/   \n",
              "26608         NaN  ...  http://www.eia.gov/electricity/data/browser/   \n",
              "26609         NaN  ...  http://www.eia.gov/electricity/data/browser/   \n",
              "\n",
              "                           geolocation_source wepp_id year_of_capacity_data  \\\n",
              "26510  U.S. Energy Information Administration   67009                2017.0   \n",
              "26511  U.S. Energy Information Administration     NaN                2017.0   \n",
              "26512  U.S. Energy Information Administration   29275                2017.0   \n",
              "26513  U.S. Energy Information Administration     NaN                2017.0   \n",
              "26514  U.S. Energy Information Administration   70330                2017.0   \n",
              "...                                       ...     ...                   ...   \n",
              "26605  U.S. Energy Information Administration   62439                2017.0   \n",
              "26606  U.S. Energy Information Administration   49516                2017.0   \n",
              "26607  U.S. Energy Information Administration   63825                2017.0   \n",
              "26608  U.S. Energy Information Administration     NaN                2017.0   \n",
              "26609  U.S. Energy Information Administration     NaN                2017.0   \n",
              "\n",
              "      generation_gwh_2013 generation_gwh_2014 generation_gwh_2015  \\\n",
              "26510              10.705              10.460              10.229   \n",
              "26511               0.029               0.000               0.000   \n",
              "26512               0.000               0.000               0.000   \n",
              "26513                 NaN                 NaN                 NaN   \n",
              "26514                 NaN                 NaN               0.129   \n",
              "...                   ...                 ...                 ...   \n",
              "26605              41.614              40.298              39.257   \n",
              "26606            3773.689            2598.647            3002.429   \n",
              "26607             297.029             335.282             293.563   \n",
              "26608               0.000               8.285               9.356   \n",
              "26609                 NaN                 NaN                 NaN   \n",
              "\n",
              "       generation_gwh_2016  generation_gwh_2017  estimated_generation_gwh  \n",
              "26510                9.439               9.9030                       NaN  \n",
              "26511                0.030               0.0370                       NaN  \n",
              "26512                0.000               1.0486                       NaN  \n",
              "26513                6.051               9.6840                  2.229638  \n",
              "26514                1.810               1.7210                  0.936448  \n",
              "...                    ...                  ...                       ...  \n",
              "26605               37.662              38.5920                       NaN  \n",
              "26606             2299.052            2517.1370                       NaN  \n",
              "26607              349.771             300.3800                       NaN  \n",
              "26608                9.444               9.5400                       NaN  \n",
              "26609                  NaN               1.3490                  1.025634  \n",
              "\n",
              "[100 rows x 24 columns]"
            ],
            "text/html": [
              "\n",
              "  <div id=\"df-2b40fe22-8e39-4125-8625-f837d32909d4\" class=\"colab-df-container\">\n",
              "    <div>\n",
              "<style scoped>\n",
              "    .dataframe tbody tr th:only-of-type {\n",
              "        vertical-align: middle;\n",
              "    }\n",
              "\n",
              "    .dataframe tbody tr th {\n",
              "        vertical-align: top;\n",
              "    }\n",
              "\n",
              "    .dataframe thead th {\n",
              "        text-align: right;\n",
              "    }\n",
              "</style>\n",
              "<table border=\"1\" class=\"dataframe\">\n",
              "  <thead>\n",
              "    <tr style=\"text-align: right;\">\n",
              "      <th></th>\n",
              "      <th>country</th>\n",
              "      <th>country_long</th>\n",
              "      <th>name</th>\n",
              "      <th>gppd_idnr</th>\n",
              "      <th>capacity_mw</th>\n",
              "      <th>latitude</th>\n",
              "      <th>longitude</th>\n",
              "      <th>primary_fuel</th>\n",
              "      <th>other_fuel1</th>\n",
              "      <th>other_fuel2</th>\n",
              "      <th>...</th>\n",
              "      <th>url</th>\n",
              "      <th>geolocation_source</th>\n",
              "      <th>wepp_id</th>\n",
              "      <th>year_of_capacity_data</th>\n",
              "      <th>generation_gwh_2013</th>\n",
              "      <th>generation_gwh_2014</th>\n",
              "      <th>generation_gwh_2015</th>\n",
              "      <th>generation_gwh_2016</th>\n",
              "      <th>generation_gwh_2017</th>\n",
              "      <th>estimated_generation_gwh</th>\n",
              "    </tr>\n",
              "  </thead>\n",
              "  <tbody>\n",
              "    <tr>\n",
              "      <th>26510</th>\n",
              "      <td>USA</td>\n",
              "      <td>United States of America</td>\n",
              "      <td>Outback Solar At Christmas Valley</td>\n",
              "      <td>USA0058131</td>\n",
              "      <td>4.4</td>\n",
              "      <td>43.2369</td>\n",
              "      <td>-120.4900</td>\n",
              "      <td>Solar</td>\n",
              "      <td>NaN</td>\n",
              "      <td>NaN</td>\n",
              "      <td>...</td>\n",
              "      <td>http://www.eia.gov/electricity/data/browser/</td>\n",
              "      <td>U.S. Energy Information Administration</td>\n",
              "      <td>67009</td>\n",
              "      <td>2017.0</td>\n",
              "      <td>10.705</td>\n",
              "      <td>10.460</td>\n",
              "      <td>10.229</td>\n",
              "      <td>9.439</td>\n",
              "      <td>9.9030</td>\n",
              "      <td>NaN</td>\n",
              "    </tr>\n",
              "    <tr>\n",
              "      <th>26511</th>\n",
              "      <td>USA</td>\n",
              "      <td>United States of America</td>\n",
              "      <td>Overall Road Station</td>\n",
              "      <td>USA0056600</td>\n",
              "      <td>8.0</td>\n",
              "      <td>37.7608</td>\n",
              "      <td>-90.4526</td>\n",
              "      <td>Oil</td>\n",
              "      <td>NaN</td>\n",
              "      <td>NaN</td>\n",
              "      <td>...</td>\n",
              "      <td>http://www.eia.gov/electricity/data/browser/</td>\n",
              "      <td>U.S. Energy Information Administration</td>\n",
              "      <td>NaN</td>\n",
              "      <td>2017.0</td>\n",
              "      <td>0.029</td>\n",
              "      <td>0.000</td>\n",
              "      <td>0.000</td>\n",
              "      <td>0.030</td>\n",
              "      <td>0.0370</td>\n",
              "      <td>NaN</td>\n",
              "    </tr>\n",
              "    <tr>\n",
              "      <th>26512</th>\n",
              "      <td>USA</td>\n",
              "      <td>United States of America</td>\n",
              "      <td>Owatonna</td>\n",
              "      <td>USA0002003</td>\n",
              "      <td>19.0</td>\n",
              "      <td>44.0833</td>\n",
              "      <td>-93.2300</td>\n",
              "      <td>Gas</td>\n",
              "      <td>Oil</td>\n",
              "      <td>NaN</td>\n",
              "      <td>...</td>\n",
              "      <td>http://www.eia.gov/electricity/data/browser/</td>\n",
              "      <td>U.S. Energy Information Administration</td>\n",
              "      <td>29275</td>\n",
              "      <td>2017.0</td>\n",
              "      <td>0.000</td>\n",
              "      <td>0.000</td>\n",
              "      <td>0.000</td>\n",
              "      <td>0.000</td>\n",
              "      <td>1.0486</td>\n",
              "      <td>NaN</td>\n",
              "    </tr>\n",
              "    <tr>\n",
              "      <th>26513</th>\n",
              "      <td>USA</td>\n",
              "      <td>United States of America</td>\n",
              "      <td>Owen Solar</td>\n",
              "      <td>USA0058742</td>\n",
              "      <td>5.0</td>\n",
              "      <td>35.5861</td>\n",
              "      <td>-81.3153</td>\n",
              "      <td>Solar</td>\n",
              "      <td>NaN</td>\n",
              "      <td>NaN</td>\n",
              "      <td>...</td>\n",
              "      <td>http://www.eia.gov/electricity/data/browser/</td>\n",
              "      <td>U.S. Energy Information Administration</td>\n",
              "      <td>NaN</td>\n",
              "      <td>2017.0</td>\n",
              "      <td>NaN</td>\n",
              "      <td>NaN</td>\n",
              "      <td>NaN</td>\n",
              "      <td>6.051</td>\n",
              "      <td>9.6840</td>\n",
              "      <td>2.229638</td>\n",
              "    </tr>\n",
              "    <tr>\n",
              "      <th>26514</th>\n",
              "      <td>USA</td>\n",
              "      <td>United States of America</td>\n",
              "      <td>Owens Corning Headquarters</td>\n",
              "      <td>USA0060038</td>\n",
              "      <td>2.1</td>\n",
              "      <td>41.6447</td>\n",
              "      <td>-83.5364</td>\n",
              "      <td>Solar</td>\n",
              "      <td>NaN</td>\n",
              "      <td>NaN</td>\n",
              "      <td>...</td>\n",
              "      <td>http://www.eia.gov/electricity/data/browser/</td>\n",
              "      <td>U.S. Energy Information Administration</td>\n",
              "      <td>70330</td>\n",
              "      <td>2017.0</td>\n",
              "      <td>NaN</td>\n",
              "      <td>NaN</td>\n",
              "      <td>0.129</td>\n",
              "      <td>1.810</td>\n",
              "      <td>1.7210</td>\n",
              "      <td>0.936448</td>\n",
              "    </tr>\n",
              "    <tr>\n",
              "      <th>...</th>\n",
              "      <td>...</td>\n",
              "      <td>...</td>\n",
              "      <td>...</td>\n",
              "      <td>...</td>\n",
              "      <td>...</td>\n",
              "      <td>...</td>\n",
              "      <td>...</td>\n",
              "      <td>...</td>\n",
              "      <td>...</td>\n",
              "      <td>...</td>\n",
              "      <td>...</td>\n",
              "      <td>...</td>\n",
              "      <td>...</td>\n",
              "      <td>...</td>\n",
              "      <td>...</td>\n",
              "      <td>...</td>\n",
              "      <td>...</td>\n",
              "      <td>...</td>\n",
              "      <td>...</td>\n",
              "      <td>...</td>\n",
              "      <td>...</td>\n",
              "    </tr>\n",
              "    <tr>\n",
              "      <th>26605</th>\n",
              "      <td>USA</td>\n",
              "      <td>United States of America</td>\n",
              "      <td>Paloma Solar</td>\n",
              "      <td>USA0057562</td>\n",
              "      <td>17.6</td>\n",
              "      <td>33.0211</td>\n",
              "      <td>-112.6614</td>\n",
              "      <td>Solar</td>\n",
              "      <td>NaN</td>\n",
              "      <td>NaN</td>\n",
              "      <td>...</td>\n",
              "      <td>http://www.eia.gov/electricity/data/browser/</td>\n",
              "      <td>U.S. Energy Information Administration</td>\n",
              "      <td>62439</td>\n",
              "      <td>2017.0</td>\n",
              "      <td>41.614</td>\n",
              "      <td>40.298</td>\n",
              "      <td>39.257</td>\n",
              "      <td>37.662</td>\n",
              "      <td>38.5920</td>\n",
              "      <td>NaN</td>\n",
              "    </tr>\n",
              "    <tr>\n",
              "      <th>26606</th>\n",
              "      <td>USA</td>\n",
              "      <td>United States of America</td>\n",
              "      <td>Palomar Energy</td>\n",
              "      <td>USA0055985</td>\n",
              "      <td>559.0</td>\n",
              "      <td>33.1197</td>\n",
              "      <td>-117.1178</td>\n",
              "      <td>Gas</td>\n",
              "      <td>NaN</td>\n",
              "      <td>NaN</td>\n",
              "      <td>...</td>\n",
              "      <td>http://www.eia.gov/electricity/data/browser/</td>\n",
              "      <td>U.S. Energy Information Administration</td>\n",
              "      <td>49516</td>\n",
              "      <td>2017.0</td>\n",
              "      <td>3773.689</td>\n",
              "      <td>2598.647</td>\n",
              "      <td>3002.429</td>\n",
              "      <td>2299.052</td>\n",
              "      <td>2517.1370</td>\n",
              "      <td>NaN</td>\n",
              "    </tr>\n",
              "    <tr>\n",
              "      <th>26607</th>\n",
              "      <td>USA</td>\n",
              "      <td>United States of America</td>\n",
              "      <td>Palouse</td>\n",
              "      <td>USA0057530</td>\n",
              "      <td>105.3</td>\n",
              "      <td>47.1558</td>\n",
              "      <td>-117.3644</td>\n",
              "      <td>Wind</td>\n",
              "      <td>NaN</td>\n",
              "      <td>NaN</td>\n",
              "      <td>...</td>\n",
              "      <td>http://www.eia.gov/electricity/data/browser/</td>\n",
              "      <td>U.S. Energy Information Administration</td>\n",
              "      <td>63825</td>\n",
              "      <td>2017.0</td>\n",
              "      <td>297.029</td>\n",
              "      <td>335.282</td>\n",
              "      <td>293.563</td>\n",
              "      <td>349.771</td>\n",
              "      <td>300.3800</td>\n",
              "      <td>NaN</td>\n",
              "    </tr>\n",
              "    <tr>\n",
              "      <th>26608</th>\n",
              "      <td>USA</td>\n",
              "      <td>United States of America</td>\n",
              "      <td>Pamlico Partners Solar</td>\n",
              "      <td>USA0058799</td>\n",
              "      <td>5.0</td>\n",
              "      <td>35.5011</td>\n",
              "      <td>-76.8700</td>\n",
              "      <td>Solar</td>\n",
              "      <td>NaN</td>\n",
              "      <td>NaN</td>\n",
              "      <td>...</td>\n",
              "      <td>http://www.eia.gov/electricity/data/browser/</td>\n",
              "      <td>U.S. Energy Information Administration</td>\n",
              "      <td>NaN</td>\n",
              "      <td>2017.0</td>\n",
              "      <td>0.000</td>\n",
              "      <td>8.285</td>\n",
              "      <td>9.356</td>\n",
              "      <td>9.444</td>\n",
              "      <td>9.5400</td>\n",
              "      <td>NaN</td>\n",
              "    </tr>\n",
              "    <tr>\n",
              "      <th>26609</th>\n",
              "      <td>USA</td>\n",
              "      <td>United States of America</td>\n",
              "      <td>Panasonic Carport Solar</td>\n",
              "      <td>USA0061439</td>\n",
              "      <td>2.3</td>\n",
              "      <td>39.8087</td>\n",
              "      <td>-104.7815</td>\n",
              "      <td>Solar</td>\n",
              "      <td>Storage</td>\n",
              "      <td>NaN</td>\n",
              "      <td>...</td>\n",
              "      <td>http://www.eia.gov/electricity/data/browser/</td>\n",
              "      <td>U.S. Energy Information Administration</td>\n",
              "      <td>NaN</td>\n",
              "      <td>2017.0</td>\n",
              "      <td>NaN</td>\n",
              "      <td>NaN</td>\n",
              "      <td>NaN</td>\n",
              "      <td>NaN</td>\n",
              "      <td>1.3490</td>\n",
              "      <td>1.025634</td>\n",
              "    </tr>\n",
              "  </tbody>\n",
              "</table>\n",
              "<p>100 rows × 24 columns</p>\n",
              "</div>\n",
              "    <div class=\"colab-df-buttons\">\n",
              "\n",
              "  <div class=\"colab-df-container\">\n",
              "    <button class=\"colab-df-convert\" onclick=\"convertToInteractive('df-2b40fe22-8e39-4125-8625-f837d32909d4')\"\n",
              "            title=\"Convert this dataframe to an interactive table.\"\n",
              "            style=\"display:none;\">\n",
              "\n",
              "  <svg xmlns=\"http://www.w3.org/2000/svg\" height=\"24px\" viewBox=\"0 -960 960 960\">\n",
              "    <path d=\"M120-120v-720h720v720H120Zm60-500h600v-160H180v160Zm220 220h160v-160H400v160Zm0 220h160v-160H400v160ZM180-400h160v-160H180v160Zm440 0h160v-160H620v160ZM180-180h160v-160H180v160Zm440 0h160v-160H620v160Z\"/>\n",
              "  </svg>\n",
              "    </button>\n",
              "\n",
              "  <style>\n",
              "    .colab-df-container {\n",
              "      display:flex;\n",
              "      gap: 12px;\n",
              "    }\n",
              "\n",
              "    .colab-df-convert {\n",
              "      background-color: #E8F0FE;\n",
              "      border: none;\n",
              "      border-radius: 50%;\n",
              "      cursor: pointer;\n",
              "      display: none;\n",
              "      fill: #1967D2;\n",
              "      height: 32px;\n",
              "      padding: 0 0 0 0;\n",
              "      width: 32px;\n",
              "    }\n",
              "\n",
              "    .colab-df-convert:hover {\n",
              "      background-color: #E2EBFA;\n",
              "      box-shadow: 0px 1px 2px rgba(60, 64, 67, 0.3), 0px 1px 3px 1px rgba(60, 64, 67, 0.15);\n",
              "      fill: #174EA6;\n",
              "    }\n",
              "\n",
              "    .colab-df-buttons div {\n",
              "      margin-bottom: 4px;\n",
              "    }\n",
              "\n",
              "    [theme=dark] .colab-df-convert {\n",
              "      background-color: #3B4455;\n",
              "      fill: #D2E3FC;\n",
              "    }\n",
              "\n",
              "    [theme=dark] .colab-df-convert:hover {\n",
              "      background-color: #434B5C;\n",
              "      box-shadow: 0px 1px 3px 1px rgba(0, 0, 0, 0.15);\n",
              "      filter: drop-shadow(0px 1px 2px rgba(0, 0, 0, 0.3));\n",
              "      fill: #FFFFFF;\n",
              "    }\n",
              "  </style>\n",
              "\n",
              "    <script>\n",
              "      const buttonEl =\n",
              "        document.querySelector('#df-2b40fe22-8e39-4125-8625-f837d32909d4 button.colab-df-convert');\n",
              "      buttonEl.style.display =\n",
              "        google.colab.kernel.accessAllowed ? 'block' : 'none';\n",
              "\n",
              "      async function convertToInteractive(key) {\n",
              "        const element = document.querySelector('#df-2b40fe22-8e39-4125-8625-f837d32909d4');\n",
              "        const dataTable =\n",
              "          await google.colab.kernel.invokeFunction('convertToInteractive',\n",
              "                                                    [key], {});\n",
              "        if (!dataTable) return;\n",
              "\n",
              "        const docLinkHtml = 'Like what you see? Visit the ' +\n",
              "          '<a target=\"_blank\" href=https://colab.research.google.com/notebooks/data_table.ipynb>data table notebook</a>'\n",
              "          + ' to learn more about interactive tables.';\n",
              "        element.innerHTML = '';\n",
              "        dataTable['output_type'] = 'display_data';\n",
              "        await google.colab.output.renderOutput(dataTable, element);\n",
              "        const docLink = document.createElement('div');\n",
              "        docLink.innerHTML = docLinkHtml;\n",
              "        element.appendChild(docLink);\n",
              "      }\n",
              "    </script>\n",
              "  </div>\n",
              "\n",
              "\n",
              "<div id=\"df-8333d1ac-ddb6-449d-8495-7e11c08864ed\">\n",
              "  <button class=\"colab-df-quickchart\" onclick=\"quickchart('df-8333d1ac-ddb6-449d-8495-7e11c08864ed')\"\n",
              "            title=\"Suggest charts\"\n",
              "            style=\"display:none;\">\n",
              "\n",
              "<svg xmlns=\"http://www.w3.org/2000/svg\" height=\"24px\"viewBox=\"0 0 24 24\"\n",
              "     width=\"24px\">\n",
              "    <g>\n",
              "        <path d=\"M19 3H5c-1.1 0-2 .9-2 2v14c0 1.1.9 2 2 2h14c1.1 0 2-.9 2-2V5c0-1.1-.9-2-2-2zM9 17H7v-7h2v7zm4 0h-2V7h2v10zm4 0h-2v-4h2v4z\"/>\n",
              "    </g>\n",
              "</svg>\n",
              "  </button>\n",
              "\n",
              "<style>\n",
              "  .colab-df-quickchart {\n",
              "      --bg-color: #E8F0FE;\n",
              "      --fill-color: #1967D2;\n",
              "      --hover-bg-color: #E2EBFA;\n",
              "      --hover-fill-color: #174EA6;\n",
              "      --disabled-fill-color: #AAA;\n",
              "      --disabled-bg-color: #DDD;\n",
              "  }\n",
              "\n",
              "  [theme=dark] .colab-df-quickchart {\n",
              "      --bg-color: #3B4455;\n",
              "      --fill-color: #D2E3FC;\n",
              "      --hover-bg-color: #434B5C;\n",
              "      --hover-fill-color: #FFFFFF;\n",
              "      --disabled-bg-color: #3B4455;\n",
              "      --disabled-fill-color: #666;\n",
              "  }\n",
              "\n",
              "  .colab-df-quickchart {\n",
              "    background-color: var(--bg-color);\n",
              "    border: none;\n",
              "    border-radius: 50%;\n",
              "    cursor: pointer;\n",
              "    display: none;\n",
              "    fill: var(--fill-color);\n",
              "    height: 32px;\n",
              "    padding: 0;\n",
              "    width: 32px;\n",
              "  }\n",
              "\n",
              "  .colab-df-quickchart:hover {\n",
              "    background-color: var(--hover-bg-color);\n",
              "    box-shadow: 0 1px 2px rgba(60, 64, 67, 0.3), 0 1px 3px 1px rgba(60, 64, 67, 0.15);\n",
              "    fill: var(--button-hover-fill-color);\n",
              "  }\n",
              "\n",
              "  .colab-df-quickchart-complete:disabled,\n",
              "  .colab-df-quickchart-complete:disabled:hover {\n",
              "    background-color: var(--disabled-bg-color);\n",
              "    fill: var(--disabled-fill-color);\n",
              "    box-shadow: none;\n",
              "  }\n",
              "\n",
              "  .colab-df-spinner {\n",
              "    border: 2px solid var(--fill-color);\n",
              "    border-color: transparent;\n",
              "    border-bottom-color: var(--fill-color);\n",
              "    animation:\n",
              "      spin 1s steps(1) infinite;\n",
              "  }\n",
              "\n",
              "  @keyframes spin {\n",
              "    0% {\n",
              "      border-color: transparent;\n",
              "      border-bottom-color: var(--fill-color);\n",
              "      border-left-color: var(--fill-color);\n",
              "    }\n",
              "    20% {\n",
              "      border-color: transparent;\n",
              "      border-left-color: var(--fill-color);\n",
              "      border-top-color: var(--fill-color);\n",
              "    }\n",
              "    30% {\n",
              "      border-color: transparent;\n",
              "      border-left-color: var(--fill-color);\n",
              "      border-top-color: var(--fill-color);\n",
              "      border-right-color: var(--fill-color);\n",
              "    }\n",
              "    40% {\n",
              "      border-color: transparent;\n",
              "      border-right-color: var(--fill-color);\n",
              "      border-top-color: var(--fill-color);\n",
              "    }\n",
              "    60% {\n",
              "      border-color: transparent;\n",
              "      border-right-color: var(--fill-color);\n",
              "    }\n",
              "    80% {\n",
              "      border-color: transparent;\n",
              "      border-right-color: var(--fill-color);\n",
              "      border-bottom-color: var(--fill-color);\n",
              "    }\n",
              "    90% {\n",
              "      border-color: transparent;\n",
              "      border-bottom-color: var(--fill-color);\n",
              "    }\n",
              "  }\n",
              "</style>\n",
              "\n",
              "  <script>\n",
              "    async function quickchart(key) {\n",
              "      const quickchartButtonEl =\n",
              "        document.querySelector('#' + key + ' button');\n",
              "      quickchartButtonEl.disabled = true;  // To prevent multiple clicks.\n",
              "      quickchartButtonEl.classList.add('colab-df-spinner');\n",
              "      try {\n",
              "        const charts = await google.colab.kernel.invokeFunction(\n",
              "            'suggestCharts', [key], {});\n",
              "      } catch (error) {\n",
              "        console.error('Error during call to suggestCharts:', error);\n",
              "      }\n",
              "      quickchartButtonEl.classList.remove('colab-df-spinner');\n",
              "      quickchartButtonEl.classList.add('colab-df-quickchart-complete');\n",
              "    }\n",
              "    (() => {\n",
              "      let quickchartButtonEl =\n",
              "        document.querySelector('#df-8333d1ac-ddb6-449d-8495-7e11c08864ed button');\n",
              "      quickchartButtonEl.style.display =\n",
              "        google.colab.kernel.accessAllowed ? 'block' : 'none';\n",
              "    })();\n",
              "  </script>\n",
              "</div>\n",
              "\n",
              "    </div>\n",
              "  </div>\n"
            ],
            "application/vnd.google.colaboratory.intrinsic+json": {
              "type": "dataframe"
            }
          },
          "metadata": {},
          "execution_count": 27
        }
      ]
    },
    {
      "cell_type": "code",
      "source": [
        "USA_subset = pd.DataFrame(USA_subset)"
      ],
      "metadata": {
        "id": "9tRdeGE1pwu0"
      },
      "execution_count": 28,
      "outputs": []
    },
    {
      "cell_type": "markdown",
      "source": [
        "### Exporting your Data"
      ],
      "metadata": {
        "id": "EViH0crSKjdO"
      }
    },
    {
      "cell_type": "markdown",
      "source": [
        "Now that you have your final dataset with the information you need, you will want to export this dataset as a csv. file. First, you can run the code: **!mkdir /content/data** to make sure your new dataset exists. If that checks off then you can begin to export by:**()_subset.to_csv()**"
      ],
      "metadata": {
        "id": "qr2--8YiKnoS"
      }
    },
    {
      "cell_type": "code",
      "source": [
        "!mkdir /content/data"
      ],
      "metadata": {
        "colab": {
          "base_uri": "https://localhost:8080/"
        },
        "id": "hF_w41wsqqWW",
        "outputId": "5c241bf0-4d7e-47ed-b509-aebb526f2ed6"
      },
      "execution_count": 29,
      "outputs": [
        {
          "output_type": "stream",
          "name": "stdout",
          "text": [
            "mkdir: cannot create directory ‘/content/data’: File exists\n"
          ]
        }
      ]
    },
    {
      "cell_type": "code",
      "source": [
        "USA_subset.to_csv('/content/data/USA_df-2.csv')"
      ],
      "metadata": {
        "id": "cb2OZuMZqtZ7"
      },
      "execution_count": 30,
      "outputs": []
    },
    {
      "cell_type": "code",
      "source": [
        "!ls /content/data/USA_df.csv"
      ],
      "metadata": {
        "colab": {
          "base_uri": "https://localhost:8080/"
        },
        "id": "aVXrukFWqu9R",
        "outputId": "be6ca438-fe38-469f-e72a-8a691a150f22"
      },
      "execution_count": 31,
      "outputs": [
        {
          "output_type": "stream",
          "name": "stdout",
          "text": [
            "ls: cannot access '/content/data/USA_df.csv': No such file or directory\n"
          ]
        }
      ]
    }
  ]
}